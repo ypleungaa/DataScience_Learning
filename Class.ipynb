{
 "cells": [
  {
   "cell_type": "markdown",
   "id": "3f43e4fd-503d-4857-b379-aad69abf1f92",
   "metadata": {},
   "source": [
    "### Class"
   ]
  },
  {
   "cell_type": "code",
   "execution_count": null,
   "id": "58afccab-493b-4a25-a37d-ed5498f47552",
   "metadata": {},
   "outputs": [],
   "source": [
    "# Bank\n",
    "# Bank account - balance\n",
    "# deposit, withdraw"
   ]
  },
  {
   "cell_type": "code",
   "execution_count": null,
   "id": "b300b91e-2fb3-4190-a5a1-57e9f2a83294",
   "metadata": {},
   "outputs": [],
   "source": [
    "def open_bank_account():\n",
    "    x = 0 \n",
    "    return X"
   ]
  },
  {
   "cell_type": "code",
   "execution_count": 1,
   "id": "19e30795-a7c5-4953-b6d1-25bfdbcd398f",
   "metadata": {},
   "outputs": [],
   "source": [
    "class BankAcc:\n",
    "    def __init__(self): # must include this in class!!\n",
    "        pass"
   ]
  },
  {
   "cell_type": "code",
   "execution_count": 10,
   "id": "c0c79d51-f41c-4cad-8d3d-ecd91ef7c5ec",
   "metadata": {},
   "outputs": [],
   "source": [
    "class BankAcc:\n",
    "    def __init__(self, opening=0, name='firstname'): # with deafult value of method (atttribute)\n",
    "        self.balance = opening # for defining the method (attribute)\n",
    "        self.name = name"
   ]
  },
  {
   "cell_type": "code",
   "execution_count": 14,
   "id": "8190aa2b-0783-4bc4-b281-7d2cefe26122",
   "metadata": {},
   "outputs": [],
   "source": [
    "class BankAcc:\n",
    "    def __init__(self, opening=0, name='firstname'): # with deafult value of method (atttribute)\n",
    "        self.balance = opening # for defining the method (attribute)\n",
    "        self.name = name\n",
    "## function in class = method, must with self \n",
    "    def __str__(self):\n",
    "        return Hello\n",
    "    \n",
    "    def deposit(self, amount):\n",
    "        self.balance += amount\n",
    "        print('-'*10)\n",
    "        print('Deposite DONE')\n",
    "\n",
    "        \n",
    "# similar to dictionary , but the attribute can use for more complicate function"
   ]
  },
  {
   "cell_type": "code",
   "execution_count": 15,
   "id": "04816d13-518f-4456-9606-c4cef6249a1f",
   "metadata": {},
   "outputs": [],
   "source": [
    "class BankAcc:\n",
    "    def __init__(self, opening=0, firstname='firstname'): # with deafult value of method (atttribute)\n",
    "        self.balance = opening # for defining the method (attribute)\n",
    "        self.firstname = firstname\n",
    "## function in class = method, must with self \n",
    "    def __str__(self):\n",
    "        return f'Hello {self.firstname}, you balance is {self.balance}' # must incldue self. for the attribute\n",
    "    \n",
    "    def deposit(self, amount):\n",
    "        self.balance += amount\n",
    "        print('-'*10)\n",
    "        print('Deposite DONE')\n",
    "        \n",
    "    def withdraw(self, amount): # By Antohny\n",
    "        if self.balance >0:\n",
    "            self.balance -= amount\n",
    "        else:\n",
    "            print('You have not enough money')\n",
    "\n",
    "        \n",
    "# similar to dictionary , but the attribute can use for more complicate function"
   ]
  },
  {
   "cell_type": "code",
   "execution_count": 17,
   "id": "efbcff43-e62c-4cc4-89a1-c53a42bc999d",
   "metadata": {},
   "outputs": [],
   "source": [
    "## By Wayne\n",
    "\n",
    "class BankAcc:\n",
    "    def __init__(self, opening=0, firstname='firstname'): # with deafult value of method (atttribute)\n",
    "        self.balance = opening # for defining the method (attribute)\n",
    "        self.firstname = firstname\n",
    "## function in class = method, must with self \n",
    "    def __str__(self):\n",
    "        return f'Hello {self.firstname}, you balance is {self.balance}' # must incldue self. for the attribute\n",
    "    \n",
    "    def show_balance(self):\n",
    "        print(f'Balance: {self.balance}')\n",
    "    \n",
    "    def deposit(self, amount):\n",
    "        self.balance += amount\n",
    "        print('-'*10)\n",
    "        print('Deposite DONE')\n",
    "        \n",
    "    def withdraw(self, amount):\n",
    "        if amount <= self.balance:\n",
    "            self.balance -= amount\n",
    "            print('-'*10)\n",
    "            print('Deposite DONE')\n",
    "        else:\n",
    "            print('You have not enough money')\n",
    "\n",
    "        \n",
    "# similar to dictionary , but the attribute can use for more complicate function"
   ]
  },
  {
   "cell_type": "code",
   "execution_count": null,
   "id": "46e4aa8e-6857-4049-87f6-63d36937deaa",
   "metadata": {},
   "outputs": [],
   "source": []
  },
  {
   "cell_type": "code",
   "execution_count": 11,
   "id": "6b9307bb-78a7-4d6d-ac72-9ffde6a8b282",
   "metadata": {},
   "outputs": [],
   "source": [
    "wayne_acc = BankAcc()"
   ]
  },
  {
   "cell_type": "code",
   "execution_count": 12,
   "id": "b3a6c3ea-011f-4eb9-8d13-9ebe5a181e06",
   "metadata": {},
   "outputs": [
    {
     "data": {
      "text/plain": [
       "__main__.BankAcc"
      ]
     },
     "execution_count": 12,
     "metadata": {},
     "output_type": "execute_result"
    }
   ],
   "source": [
    "type(wayne_acc)"
   ]
  },
  {
   "cell_type": "code",
   "execution_count": 13,
   "id": "b854376f-15ff-4e61-8eb8-b00e4ea23c66",
   "metadata": {},
   "outputs": [],
   "source": [
    "wayne_acc = BankAcc(opening=10000, name = 'Anthony')"
   ]
  },
  {
   "cell_type": "code",
   "execution_count": 21,
   "id": "4cb76e7b-6243-4745-b46b-1c6a164fc2ec",
   "metadata": {},
   "outputs": [
    {
     "ename": "TypeError",
     "evalue": "deposit() missing 1 required positional argument: 'self'",
     "output_type": "error",
     "traceback": [
      "\u001b[1;31m---------------------------------------------------------------------------\u001b[0m",
      "\u001b[1;31mTypeError\u001b[0m                                 Traceback (most recent call last)",
      "\u001b[1;32m~\\AppData\\Local\\Temp/ipykernel_2680/3704899430.py\u001b[0m in \u001b[0;36m<module>\u001b[1;34m\u001b[0m\n\u001b[1;32m----> 1\u001b[1;33m \u001b[0mBankAcc\u001b[0m\u001b[1;33m.\u001b[0m\u001b[0mdeposit\u001b[0m\u001b[1;33m(\u001b[0m\u001b[0mamount\u001b[0m \u001b[1;33m=\u001b[0m \u001b[1;36m1000\u001b[0m\u001b[1;33m)\u001b[0m\u001b[1;33m\u001b[0m\u001b[1;33m\u001b[0m\u001b[0m\n\u001b[0m",
      "\u001b[1;31mTypeError\u001b[0m: deposit() missing 1 required positional argument: 'self'"
     ]
    }
   ],
   "source": []
  },
  {
   "cell_type": "code",
   "execution_count": null,
   "id": "8ad98e09-f567-4975-b255-49d0581721c0",
   "metadata": {},
   "outputs": [],
   "source": []
  }
 ],
 "metadata": {
  "kernelspec": {
   "display_name": "Python 3 (ipykernel)",
   "language": "python",
   "name": "python3"
  },
  "language_info": {
   "codemirror_mode": {
    "name": "ipython",
    "version": 3
   },
   "file_extension": ".py",
   "mimetype": "text/x-python",
   "name": "python",
   "nbconvert_exporter": "python",
   "pygments_lexer": "ipython3",
   "version": "3.9.7"
  }
 },
 "nbformat": 4,
 "nbformat_minor": 5
}
