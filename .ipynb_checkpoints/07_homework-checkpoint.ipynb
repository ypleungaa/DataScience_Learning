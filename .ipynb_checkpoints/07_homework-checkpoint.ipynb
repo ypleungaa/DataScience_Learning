{
 "cells": [
  {
   "cell_type": "code",
   "execution_count": null,
   "id": "c7b27166-0f09-4bc3-97da-84107ad0f203",
   "metadata": {},
   "outputs": [],
   "source": [
    "# Q1 Average depature delay of each airline per airport\n",
    "\n",
    "# AIRLINE\n",
    "# ORIGIN AIRPORT\n",
    "# Total flight (number of flight)\n",
    "# OPERATED RATE (non cancel rate)\n",
    "# DELAY RATE (DEPARUTRE)\n",
    "# AVERAGE DELAY MINUTES (By Airline)\n"
   ]
  },
  {
   "cell_type": "code",
   "execution_count": null,
   "id": "fac9cf7d-53c1-4cec-a410-19b620da0b3f",
   "metadata": {},
   "outputs": [],
   "source": [
    "# Q2\n",
    "# Rate per session for operated flights only\n",
    "\n",
    "# ORIGIN AIRPORT\n",
    "# 0-6AM Rate\n",
    "# 6AM-12pm Rate\n",
    "# 12-6PM Rate\n",
    "# 6PM-12PM Rate\n",
    "\n",
    "\n",
    "# 1. 30 -> 0-6am\n",
    "# 2. 1400 -> 12-6PM\n",
    "# 3. 2300 -> 6PM- 12PM"
   ]
  }
 ],
 "metadata": {
  "kernelspec": {
   "display_name": "Python 3 (ipykernel)",
   "language": "python",
   "name": "python3"
  },
  "language_info": {
   "codemirror_mode": {
    "name": "ipython",
    "version": 3
   },
   "file_extension": ".py",
   "mimetype": "text/x-python",
   "name": "python",
   "nbconvert_exporter": "python",
   "pygments_lexer": "ipython3",
   "version": "3.8.13"
  }
 },
 "nbformat": 4,
 "nbformat_minor": 5
}
