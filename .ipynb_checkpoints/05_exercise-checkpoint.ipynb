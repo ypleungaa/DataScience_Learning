{
 "cells": [
  {
   "cell_type": "markdown",
   "metadata": {
    "id": "heo-Y2Ih-VUl"
   },
   "source": [
    "# L05 - Web Crawling\n",
    "\n",
    "** Learning Objectives **\n",
    "\n",
    "- Understanding Web Crawling Tools\n",
    "- Do Web Crawling yourself\n"
   ]
  },
  {
   "cell_type": "code",
   "execution_count": 1,
   "metadata": {
    "id": "LGJ5ch9h-VUo"
   },
   "outputs": [
    {
     "name": "stdout",
     "output_type": "stream",
     "text": [
      "Requirement already satisfied: BeautifulSoup4 in c:\\users\\aleung\\anaconda3\\lib\\site-packages (4.10.0)\n",
      "Requirement already satisfied: soupsieve>1.2 in c:\\users\\aleung\\anaconda3\\lib\\site-packages (from BeautifulSoup4) (2.2.1)\n"
     ]
    }
   ],
   "source": [
    "# Installation Code if BeautifulSoup is missing\n",
    "! pip install BeautifulSoup4"
   ]
  },
  {
   "cell_type": "code",
   "execution_count": 5,
   "metadata": {
    "id": "pu_eJpGI-VUn"
   },
   "outputs": [],
   "source": [
    "import requests \n",
    "from bs4 import BeautifulSoup"
   ]
  },
  {
   "cell_type": "markdown",
   "metadata": {
    "id": "QPy3bowY-VUo"
   },
   "source": [
    "### Simple request: Playground\n",
    "\n"
   ]
  },
  {
   "cell_type": "markdown",
   "metadata": {
    "id": "W9TAhTBwVYAW"
   },
   "source": [
    "What is Request?   https://docs.python-requests.org/en/master/\n",
    "\n",
    "HTTP Status Code  https://en.wikipedia.org/wiki/List_of_HTTP_status_codes"
   ]
  },
  {
   "cell_type": "code",
   "execution_count": 9,
   "metadata": {
    "id": "5ToZeGxD-VUo"
   },
   "outputs": [],
   "source": [
    "# send a request to server request.get\n",
    "r = requests.get(\"https://www.price.com.hk/search.php?g=A&q=dyson\")"
   ]
  },
  {
   "cell_type": "code",
   "execution_count": 5,
   "metadata": {},
   "outputs": [
    {
     "data": {
      "text/plain": [
       "<Response [200]>"
      ]
     },
     "execution_count": 5,
     "metadata": {},
     "output_type": "execute_result"
    }
   ],
   "source": [
    "r"
   ]
  },
  {
   "cell_type": "code",
   "execution_count": 6,
   "metadata": {
    "id": "Bi7Ve9vKXQu0"
   },
   "outputs": [
    {
     "data": {
      "text/plain": [
       "200"
      ]
     },
     "execution_count": 6,
     "metadata": {},
     "output_type": "execute_result"
    }
   ],
   "source": [
    "r.status_code"
   ]
  },
  {
   "cell_type": "code",
   "execution_count": 80,
   "metadata": {},
   "outputs": [
    {
     "data": {
      "text/plain": [
       "int"
      ]
     },
     "execution_count": 80,
     "metadata": {},
     "output_type": "execute_result"
    }
   ],
   "source": [
    "type(r.status_code)"
   ]
  },
  {
   "cell_type": "code",
   "execution_count": 10,
   "metadata": {},
   "outputs": [
    {
     "data": {
      "text/plain": [
       "<Response [502]>"
      ]
     },
     "execution_count": 10,
     "metadata": {},
     "output_type": "execute_result"
    }
   ],
   "source": [
    "requests.get(\"https://www.openrice.com\")"
   ]
  },
  {
   "cell_type": "code",
   "execution_count": 7,
   "metadata": {},
   "outputs": [
    {
     "data": {
      "text/plain": [
       "{'Date': 'Sat, 14 May 2022 03:29:52 GMT', 'Content-Type': 'text/html; charset=utf-8', 'Transfer-Encoding': 'chunked', 'Connection': 'keep-alive', 'Set-Cookie': 'AB_49=A; expires=Sun, 14-May-2023 03:29:52 GMT; Max-Age=31536000; path=/; domain=.price.com.hk, AB_51=D; expires=Sun, 14-May-2023 03:29:52 GMT; Max-Age=31536000; path=/; domain=.price.com.hk, AB_52=C; expires=Wed, 23-Nov-2022 03:29:52 GMT; Max-Age=16675200; path=/; domain=.price.com.hk, AB_53=A; expires=Sun, 14-May-2023 03:29:52 GMT; Max-Age=31536000; path=/; domain=.price.com.hk, AB_54=A; expires=Sun, 14-May-2023 03:29:52 GMT; Max-Age=31536000; path=/; domain=.price.com.hk, AB_full=49-A_51-D_52-C_53-A_54-A; expires=Tue, 04-Jul-2023 19:29:52 GMT; Max-Age=36000000; path=/; domain=.price.com.hk; HttpOnly, nwtc=627f2230c704e0.70943913; expires=Mon, 13-May-2024 03:29:52 GMT; Max-Age=63072000; path=/; domain=.price.com.hk, nwu=deleted; expires=Thu, 01-Jan-1970 00:00:01 GMT; Max-Age=0; path=/; domain=.price.com.hk, dfp_seg_ids=%5B%5D; expires=Sun, 15-May-2022 03:29:52 GMT; Max-Age=86400; path=/; domain=.price.com.hk, price_ui_cookie=e4b30d2b89ec93d87bf9ae667bb749cd; expires=Tue, 11-May-2032 03:29:52 GMT; Max-Age=315360000; path=/; domain=.price.com.hk, s_from_page=A; path=/; domain=.price.com.hk, ui_recent_h=dyson%7C; path=/; domain=.price.com.hk, search_product_group=deleted; expires=Thu, 01-Jan-1970 00:00:01 GMT; Max-Age=0; path=/; domain=.price.com.hk, tr_h3=deleted; expires=Thu, 01-Jan-1970 00:00:01 GMT; Max-Age=0; path=/; domain=.price.com.hk; HttpOnly, tr_h3=2042850894627f2230eae7d7_86639801; expires=Sat, 14-May-2022 04:29:52 GMT; Max-Age=3600; path=/; domain=.price.com.hk; HttpOnly, tr_h=deleted; expires=Thu, 01-Jan-1970 00:00:01 GMT; Max-Age=0; path=/; domain=.price.com.hk; HttpOnly, tr_h=1062134775627f2230eb24e5_87730915; expires=Sat, 14-May-2022 04:29:52 GMT; Max-Age=3600; path=/; domain=.price.com.hk; HttpOnly', 'Cache-Control': 'private', 'Pragma': 'no-cache', 'NW-nwtc-isnew': '627f2230c704e0.70943913', 'Vary': 'Accept-Encoding', 'CF-Cache-Status': 'DYNAMIC', 'Expect-CT': 'max-age=604800, report-uri=\"https://report-uri.cloudflare.com/cdn-cgi/beacon/expect-ct\"', 'Server': 'cloudflare', 'CF-RAY': '70b08d50fbba3d4e-HKG', 'Content-Encoding': 'br'}"
      ]
     },
     "execution_count": 7,
     "metadata": {},
     "output_type": "execute_result"
    }
   ],
   "source": [
    "r.headers"
   ]
  },
  {
   "cell_type": "code",
   "execution_count": 12,
   "metadata": {
    "colab": {
     "base_uri": "https://localhost:8080/"
    },
    "executionInfo": {
     "elapsed": 1134,
     "status": "ok",
     "timestamp": 1624075685428,
     "user": {
      "displayName": "Gawain Chin",
      "photoUrl": "https://lh3.googleusercontent.com/a-/AOh14Gj90OdQJBrJ0unU6HssJVP6TlbYPnXtYvcBpOazOw=s64",
      "userId": "07582472287713846748"
     },
     "user_tz": -480
    },
    "id": "e4nTn7uxVOO1",
    "outputId": "f3d16a58-ec65-46c3-9e1d-8b6f527cdf1b"
   },
   "outputs": [
    {
     "data": {
      "text/plain": [
       "<Response [200]>"
      ]
     },
     "execution_count": 12,
     "metadata": {},
     "output_type": "execute_result"
    }
   ],
   "source": [
    "# Example Case of Header is needed\n",
    "headers = {'User-Agent': 'Mozilla/5.0 (Macintosh; Intel Mac OS X 10_10_1) AppleWebKit/537.36 (KHTML, like Gecko) Chrome/39.0.2171.95 Safari/537.36'}\n",
    "\n",
    "# to tell openrice I am not a robot\n",
    "\n",
    "requests.get(\"https://www.openrice.com\", headers=headers)"
   ]
  },
  {
   "cell_type": "code",
   "execution_count": 17,
   "metadata": {},
   "outputs": [
    {
     "name": "stdout",
     "output_type": "stream",
     "text": [
      "Requirement already satisfied: Pillow in c:\\users\\aleung\\anaconda3\\lib\\site-packages (8.4.0)\n"
     ]
    }
   ],
   "source": [
    "! pip install Pillow"
   ]
  },
  {
   "cell_type": "code",
   "execution_count": 21,
   "metadata": {
    "id": "74FNAsk8Y9Ai"
   },
   "outputs": [],
   "source": [
    "# Load Image Data\n",
    "from PIL import Image\n",
    "from io import BytesIO\n",
    "image_r = requests.get(url = \"https://www.price.com.hk/space/product/429000/429172_bqgprr_4.jpg\")\n",
    "img = Image.open(BytesIO(image_r.content))\n",
    "\n",
    "# Pillow to handle the image"
   ]
  },
  {
   "cell_type": "code",
   "execution_count": 20,
   "metadata": {},
   "outputs": [
    {
     "data": {
      "image/png": "[encoded data removed]",
      "text/plain": [
       "<PIL.JpegImagePlugin.JpegImageFile image mode=RGB size=200x200 at 0x26F5C99D9D0>"
      ]
     },
     "execution_count": 20,
     "metadata": {},
     "output_type": "execute_result"
    }
   ],
   "source": [
    "img"
   ]
  },
  {
   "cell_type": "code",
   "execution_count": 83,
   "metadata": {
    "id": "7B3nQCxg-VUt"
   },
   "outputs": [],
   "source": [
    "# Continue our Playground\n",
    "r = requests.get(\"https://www.price.com.hk/search.php?g=A&q=dyson\")\n",
    "soup = BeautifulSoup(r.text)\n",
    "\n",
    "\n",
    "# Beautiful to handle HTML content"
   ]
  },
  {
   "cell_type": "code",
   "execution_count": null,
   "metadata": {
    "id": "1UD9md0UdTtX"
   },
   "outputs": [],
   "source": [
    "#Show the soup"
   ]
  },
  {
   "cell_type": "markdown",
   "metadata": {
    "id": "slRsDUnKeSVg"
   },
   "source": [
    "#### HTML basic\n",
    "\n",
    "![carbon (1).png](data:image/png;base64,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)"
   ]
  },
  {
   "cell_type": "markdown",
   "metadata": {
    "id": "ZnJBsoEVfTbv"
   },
   "source": [
    "#### Meta Tags example"
   ]
  },
  {
   "cell_type": "code",
   "execution_count": 22,
   "metadata": {
    "id": "AlzKnoBg-VUp"
   },
   "outputs": [],
   "source": [
    "sample = \"\"\"<html lang=\"zh-HK\">\n",
    "<head>\n",
    "<meta name=\"keywords\" content=\"價格,數碼,影音,遊戲,相機,電腦,硬件,電器,手提電話,手機,價目,價目表,價格比較,Price,Uwants,Discuss,格價網,產品格價,價錢,shopping,price list\">\n",
    "<meta name=\"description\" content=\"Price 為香港No.1格價網站，提供多元化的產品或服務資訊、價格及用家評價等，讓精明的消費者在選購前能有充足的了解，並格至最抵價。產品或服務類型包括手提電話、電腦、家庭電器、玩具、嬰兒用品、手袋皮具、旅行套票、餐飲、美容等。Price 兼有二手買賣功能，讓用戶可以隨時去舊迎新。\">\n",
    "<meta name=\"ir-site-verification-token\" value=\"1535863020\" />\n",
    "<meta http-equiv=\"Content-Type\" content=\"text/html; charset=utf-8\" />\n",
    "<meta http-equiv=\"X-UA-Compatible\" content=\"IE=edge\">\n",
    "<\\html>\n",
    "\"\"\"\n",
    "\n",
    "# Use \"\"\" for multiline string"
   ]
  },
  {
   "cell_type": "markdown",
   "metadata": {
    "id": "Z3SQuKJmf69A"
   },
   "source": [
    "#### Class exercise 1: Find all meta tags with name only"
   ]
  },
  {
   "cell_type": "code",
   "execution_count": 23,
   "metadata": {
    "id": "wG59W7a3gMVI"
   },
   "outputs": [],
   "source": [
    "soup = BeautifulSoup(sample)"
   ]
  },
  {
   "cell_type": "code",
   "execution_count": 24,
   "metadata": {
    "id": "9HyL9_tlgld9"
   },
   "outputs": [
    {
     "data": {
      "text/plain": [
       "<html lang=\"zh-HK\">\n",
       "<head>\n",
       "<meta content=\"價格,數碼,影音,遊戲,相機,電腦,硬件,電器,手提電話,手機,價目,價目表,價格比較,Price,Uwants,Discuss,格價網,產品格價,價錢,shopping,price list\" name=\"keywords\"/>\n",
       "<meta content=\"Price 為香港No.1格價網站，提供多元化的產品或服務資訊、價格及用家評價等，讓精明的消費者在選購前能有充足的了解，並格至最抵價。產品或服務類型包括手提電話、電腦、家庭電器、玩具、嬰兒用品、手袋皮具、旅行套票、餐飲、美容等。Price 兼有二手買賣功能，讓用戶可以隨時去舊迎新。\" name=\"description\"/>\n",
       "<meta name=\"ir-site-verification-token\" value=\"1535863020\"/>\n",
       "<meta content=\"text/html; charset=utf-8\" http-equiv=\"Content-Type\"/>\n",
       "<meta content=\"IE=edge\" http-equiv=\"X-UA-Compatible\"/>\n",
       "</head><body><p>&lt;\\html&gt;\n",
       "</p></body></html>"
      ]
     },
     "execution_count": 24,
     "metadata": {},
     "output_type": "execute_result"
    }
   ],
   "source": [
    "soup.find()"
   ]
  },
  {
   "cell_type": "code",
   "execution_count": 28,
   "metadata": {},
   "outputs": [
    {
     "data": {
      "text/plain": [
       "<meta content=\"價格,數碼,影音,遊戲,相機,電腦,硬件,電器,手提電話,手機,價目,價目表,價格比較,Price,Uwants,Discuss,格價網,產品格價,價錢,shopping,price list\" name=\"keywords\"/>"
      ]
     },
     "execution_count": 28,
     "metadata": {},
     "output_type": "execute_result"
    }
   ],
   "source": [
    "soup.find('meta') # show first keyword only"
   ]
  },
  {
   "cell_type": "code",
   "execution_count": 25,
   "metadata": {
    "id": "SlNSoZC4-VUt"
   },
   "outputs": [
    {
     "data": {
      "text/plain": [
       "<meta content=\"價格,數碼,影音,遊戲,相機,電腦,硬件,電器,手提電話,手機,價目,價目表,價格比較,Price,Uwants,Discuss,格價網,產品格價,價錢,shopping,price list\" name=\"keywords\"/>"
      ]
     },
     "execution_count": 25,
     "metadata": {},
     "output_type": "execute_result"
    }
   ],
   "source": [
    "soup.find('meta', {'name':'keywords'})  #meta is tag, the following data is keyword"
   ]
  },
  {
   "cell_type": "code",
   "execution_count": 26,
   "metadata": {},
   "outputs": [
    {
     "data": {
      "text/plain": [
       "<meta content=\"Price 為香港No.1格價網站，提供多元化的產品或服務資訊、價格及用家評價等，讓精明的消費者在選購前能有充足的了解，並格至最抵價。產品或服務類型包括手提電話、電腦、家庭電器、玩具、嬰兒用品、手袋皮具、旅行套票、餐飲、美容等。Price 兼有二手買賣功能，讓用戶可以隨時去舊迎新。\" name=\"description\"/>"
      ]
     },
     "execution_count": 26,
     "metadata": {},
     "output_type": "execute_result"
    }
   ],
   "source": [
    "soup.find('meta', {'name':'description'})  #meta is tag, the following data is keyword"
   ]
  },
  {
   "cell_type": "code",
   "execution_count": 30,
   "metadata": {},
   "outputs": [
    {
     "data": {
      "text/plain": [
       "{'name': 'keywords',\n",
       " 'content': '價格,數碼,影音,遊戲,相機,電腦,硬件,電器,手提電話,手機,價目,價目表,價格比較,Price,Uwants,Discuss,格價網,產品格價,價錢,shopping,price list'}"
      ]
     },
     "execution_count": 30,
     "metadata": {},
     "output_type": "execute_result"
    }
   ],
   "source": [
    "soup.find('meta').attrs # output a dictionary"
   ]
  },
  {
   "cell_type": "code",
   "execution_count": 31,
   "metadata": {},
   "outputs": [
    {
     "data": {
      "text/plain": [
       "True"
      ]
     },
     "execution_count": 31,
     "metadata": {},
     "output_type": "execute_result"
    }
   ],
   "source": [
    "'content' in soup.find('meta').attrs"
   ]
  },
  {
   "cell_type": "code",
   "execution_count": null,
   "metadata": {
    "id": "MzL_iso_isMp"
   },
   "outputs": [],
   "source": [
    "# What attrs in the beautifulsoup"
   ]
  },
  {
   "cell_type": "code",
   "execution_count": 37,
   "metadata": {
    "id": "cB3dgNJt-VUt"
   },
   "outputs": [
    {
     "data": {
      "text/plain": [
       "[<meta content=\"價格,數碼,影音,遊戲,相機,電腦,硬件,電器,手提電話,手機,價目,價目表,價格比較,Price,Uwants,Discuss,格價網,產品格價,價錢,shopping,price list\" name=\"keywords\"/>,\n",
       " <meta content=\"Price 為香港No.1格價網站，提供多元化的產品或服務資訊、價格及用家評價等，讓精明的消費者在選購前能有充足的了解，並格至最抵價。產品或服務類型包括手提電話、電腦、家庭電器、玩具、嬰兒用品、手袋皮具、旅行套票、餐飲、美容等。Price 兼有二手買賣功能，讓用戶可以隨時去舊迎新。\" name=\"description\"/>,\n",
       " <meta name=\"ir-site-verification-token\" value=\"1535863020\"/>,\n",
       " <meta content=\"text/html; charset=utf-8\" http-equiv=\"Content-Type\"/>,\n",
       " <meta content=\"IE=edge\" http-equiv=\"X-UA-Compatible\"/>]"
      ]
     },
     "execution_count": 37,
     "metadata": {},
     "output_type": "execute_result"
    }
   ],
   "source": [
    "a = soup.findAll('meta') # output a list\n",
    "a"
   ]
  },
  {
   "cell_type": "code",
   "execution_count": 48,
   "metadata": {},
   "outputs": [
    {
     "data": {
      "text/plain": [
       "3"
      ]
     },
     "execution_count": 48,
     "metadata": {},
     "output_type": "execute_result"
    }
   ],
   "source": [
    "# To check meta tag with how many 'name' attribute \n",
    "\n",
    "counter = 0\n",
    "for i in a:\n",
    "    if 'name=' in str(i):\n",
    "        counter +=1\n",
    "    else:\n",
    "        pass\n",
    "counter"
   ]
  },
  {
   "cell_type": "code",
   "execution_count": 47,
   "metadata": {},
   "outputs": [
    {
     "data": {
      "text/plain": [
       "'<meta content=\"Price 為香港No.1格價網站，提供多元化的產品或服務資訊、價格及用家評價等，讓精明的消費者在選購前能有充足的了解，並格至最抵價。產品或服務類型包括手提電話、電腦、家庭電器、玩具、嬰兒用品、手袋皮具、旅行套票、餐飲、美容等。Price 兼有二手買賣功能，讓用戶可以隨時去舊迎新。\" name=\"description\"/>'"
      ]
     },
     "execution_count": 47,
     "metadata": {},
     "output_type": "execute_result"
    }
   ],
   "source": [
    "str(a[1])"
   ]
  },
  {
   "cell_type": "code",
   "execution_count": 43,
   "metadata": {},
   "outputs": [
    {
     "data": {
      "text/plain": [
       "True"
      ]
     },
     "execution_count": 43,
     "metadata": {},
     "output_type": "execute_result"
    }
   ],
   "source": [
    "'name' in ['name',1,2,3,4]"
   ]
  },
  {
   "cell_type": "code",
   "execution_count": null,
   "metadata": {},
   "outputs": [],
   "source": []
  },
  {
   "cell_type": "code",
   "execution_count": 67,
   "metadata": {},
   "outputs": [
    {
     "data": {
      "text/plain": [
       "[<meta content=\"價格,數碼,影音,遊戲,相機,電腦,硬件,電器,手提電話,手機,價目,價目表,價格比較,Price,Uwants,Discuss,格價網,產品格價,價錢,shopping,price list\" name=\"keywords\"/>,\n",
       " <meta content=\"Price 為香港No.1格價網站，提供多元化的產品或服務資訊、價格及用家評價等，讓精明的消費者在選購前能有充足的了解，並格至最抵價。產品或服務類型包括手提電話、電腦、家庭電器、玩具、嬰兒用品、手袋皮具、旅行套票、餐飲、美容等。Price 兼有二手買賣功能，讓用戶可以隨時去舊迎新。\" name=\"description\"/>,\n",
       " <meta name=\"ir-site-verification-token\" value=\"1535863020\"/>,\n",
       " <meta content=\"text/html; charset=utf-8\" http-equiv=\"Content-Type\"/>,\n",
       " <meta content=\"IE=edge\" http-equiv=\"X-UA-Compatible\"/>]"
      ]
     },
     "execution_count": 67,
     "metadata": {},
     "output_type": "execute_result"
    }
   ],
   "source": [
    "soup.findAll('meta')"
   ]
  },
  {
   "cell_type": "code",
   "execution_count": 35,
   "metadata": {},
   "outputs": [
    {
     "data": {
      "text/plain": [
       "2"
      ]
     },
     "execution_count": 35,
     "metadata": {},
     "output_type": "execute_result"
    }
   ],
   "source": [
    "# Count name with dictionary\n",
    "\n",
    "\n",
    "len(soup.find('meta').attrs)"
   ]
  },
  {
   "cell_type": "code",
   "execution_count": 63,
   "metadata": {},
   "outputs": [
    {
     "data": {
      "text/plain": [
       "<meta content=\"價格,數碼,影音,遊戲,相機,電腦,硬件,電器,手提電話,手機,價目,價目表,價格比較,Price,Uwants,Discuss,格價網,產品格價,價錢,shopping,price list\" name=\"keywords\"/>"
      ]
     },
     "execution_count": 63,
     "metadata": {},
     "output_type": "execute_result"
    }
   ],
   "source": [
    "soup.find('meta') # return an object"
   ]
  },
  {
   "cell_type": "code",
   "execution_count": 80,
   "metadata": {},
   "outputs": [
    {
     "data": {
      "text/plain": [
       "{'name': 'description',\n",
       " 'content': 'Price 為香港No.1格價網站，提供多元化的產品或服務資訊、價格及用家評價等，讓精明的消費者在選購前能有充足的了解，並格至最抵價。產品或服務類型包括手提電話、電腦、家庭電器、玩具、嬰兒用品、手袋皮具、旅行套票、餐飲、美容等。Price 兼有二手買賣功能，讓用戶可以隨時去舊迎新。'}"
      ]
     },
     "execution_count": 80,
     "metadata": {},
     "output_type": "execute_result"
    }
   ],
   "source": [
    "soup.findAll('meta')[1].attrs # list to dict"
   ]
  },
  {
   "cell_type": "code",
   "execution_count": 77,
   "metadata": {},
   "outputs": [
    {
     "data": {
      "text/plain": [
       "3"
      ]
     },
     "execution_count": 77,
     "metadata": {},
     "output_type": "execute_result"
    }
   ],
   "source": [
    "counter = 0\n",
    "for i in soup.findAll('meta'):\n",
    "    if 'name' in i.attrs:\n",
    "        counter += 1\n",
    "counter"
   ]
  },
  {
   "cell_type": "code",
   "execution_count": null,
   "metadata": {},
   "outputs": [],
   "source": []
  },
  {
   "cell_type": "code",
   "execution_count": null,
   "metadata": {
    "id": "x0_uRJr8-VUv"
   },
   "outputs": [],
   "source": [
    "# Your code here"
   ]
  },
  {
   "cell_type": "markdown",
   "metadata": {
    "id": "KRsNssYN-VUy"
   },
   "source": [
    "#### Class exercise 2: Find Name and Price for Dyson Products"
   ]
  },
  {
   "cell_type": "code",
   "execution_count": null,
   "metadata": {},
   "outputs": [],
   "source": [
    "# HOW MANY Pages\n",
    "# for each page, crawl info\n",
    "# define product name from where, price from where\n",
    "# return the result to list of dictionary ---> each product as a dictionary\n",
    "# wrap as a function"
   ]
  },
  {
   "cell_type": "code",
   "execution_count": 39,
   "metadata": {},
   "outputs": [
    {
     "data": {
      "text/plain": [
       "15"
      ]
     },
     "execution_count": 39,
     "metadata": {},
     "output_type": "execute_result"
    }
   ],
   "source": [
    "r = requests.get(\"https://www.price.com.hk/search.php?g=A&q=dyson\")\n",
    "soup = BeautifulSoup(r.text)\n",
    "len(soup.findAll('div',{'class':'line line-01'})) # use length to check no. of items\n",
    "len(soup.findAll('div',{'class':'item club-list-row'})) # use length to check no. of items\n",
    "\n",
    "# if can not find your desired item...... find topper herichy"
   ]
  },
  {
   "cell_type": "code",
   "execution_count": 45,
   "metadata": {},
   "outputs": [
    {
     "data": {
      "text/plain": [
       "<div class=\"item club-list-row\" data-aff=\"jd\">\n",
       "<div class=\"item-inner\" data-id=\"507471\">\n",
       "<div class=\"column column-01\">\n",
       "<div class=\"line line-img\">\n",
       "<a href=\"product.php?p=507471&amp;tr_so=w&amp;tr_ref=sr_A&amp;tr_op=3150&amp;tr_kw=dyson&amp;tr_srch=rb&amp;tr_pp=1&amp;tr_pn=1&amp;tr_ti=15&amp;tr_ct=1&amp;tr_h=16941338746283639385a7b1_61560623&amp;tr_h3=142112527662836393856063_20568445&amp;tr_vt=1\"><img src=\"/space/product/507000/507471_j9hsjo_4.png\"/></a>\n",
       "</div>\n",
       "<div class=\"pd-compare-thumbnail\">\n",
       "<label>\n",
       "<input data-add-compare=\"507471\" data-add-compare-cid=\"100135\" data-add-compare-image=\"/space/product/507000/507471_j9hsjo_4.png\" data-add-compare-name=\"Dyson Supersonic 風筒 HD08\" type=\"checkbox\"/>\n",
       "                            添加比較\n",
       "                        </label>\n",
       "<span style=\"display:none;\">\n",
       "<input checked=\"\" data-remove-compare=\"507471\" type=\"checkbox\"/>\n",
       "<a data-compare-go=\"\" href=\"javascript:void(0)\">\n",
       "                                開始比較\n",
       "                                <span data-compare-total=\"\"></span>\n",
       "</a>\n",
       "</span>\n",
       "</div>\n",
       "</div>\n",
       "<!-- product image -->\n",
       "<div class=\"column column-02\">\n",
       "<div class=\"line line-01\">\n",
       "<span class=\"product-label\">\n",
       "<img alt=\"人氣項目\" src=\"/images/zh_HK/hot_20.png\"/>\n",
       "</span>\n",
       "<a href=\"product.php?p=507471&amp;tr_so=w&amp;tr_ref=sr_A&amp;tr_op=3150&amp;tr_kw=dyson&amp;tr_srch=rb&amp;tr_pp=1&amp;tr_pn=1&amp;tr_ti=15&amp;tr_ct=2&amp;tr_h=16941338746283639385a7b1_61560623&amp;tr_h3=142112527662836393856063_20568445&amp;tr_vt=1\">Dyson Supersonic 風筒 HD08                    </a>\n",
       "</div>\n",
       "<!-- product name -->\n",
       "<div class=\"line line-03\">\n",
       "<a href=\"/product.php?p=507471&amp;ct=review&amp;tr_so=w&amp;tr_ref=sr_A&amp;tr_op=3150&amp;tr_kw=dyson&amp;tr_srch=rb&amp;tr_pp=1&amp;tr_pn=1&amp;tr_ti=15&amp;tr_ct=10&amp;tr_h=16941338746283639385a7b1_61560623&amp;tr_h3=142112527662836393856063_20568445&amp;tr_vt=1\">\n",
       "<span class=\"product-rating\">\n",
       "<img alt=\"9.4\" src=\"images/icon/star9.png\"/>\n",
       "</span>\n",
       "</a>\n",
       "</div>\n",
       "<!-- product rating -->\n",
       "<div class=\"line line-04\">\n",
       "<div class=\"item-attr item-attr-01\">\n",
       "<table>\n",
       "<tbody>\n",
       "<tr>\n",
       "<td class=\"attr-label\">功率:</td>\n",
       "<td class=\"attr-info text-overflow\"><span>1600W</span></td>\n",
       "</tr>\n",
       "<tr>\n",
       "<td class=\"attr-label\">電壓:</td>\n",
       "<td class=\"attr-info text-overflow\"><span>220-240V</span></td>\n",
       "</tr>\n",
       "<tr>\n",
       "<td class=\"attr-label\">電源線長度:</td>\n",
       "<td class=\"attr-info text-overflow\"><span>2.8m</span></td>\n",
       "</tr>\n",
       "</tbody>\n",
       "</table>\n",
       "</div>\n",
       "<div class=\"item-attr item-attr-02\">\n",
       "<table>\n",
       "<tbody>\n",
       "<tr>\n",
       "<td class=\"attr-label\">風速調節:</td>\n",
       "<td class=\"attr-info text-overflow\"><span>3</span></td>\n",
       "</tr>\n",
       "</tbody>\n",
       "</table>\n",
       "</div>\n",
       "<div class=\"item-attr item-attr-02\">\n",
       "<table>\n",
       "<tbody>\n",
       "<tr>\n",
       "<td class=\"attr-label\">冷風功能:</td>\n",
       "<td class=\"attr-info text-overflow\"><span>有</span></td>\n",
       "</tr>\n",
       "</tbody>\n",
       "</table>\n",
       "</div>\n",
       "<div class=\"item-attr item-attr-02\">\n",
       "<table>\n",
       "<tbody>\n",
       "<tr>\n",
       "<td class=\"attr-label\">負離子護髮功能:</td>\n",
       "<td class=\"attr-info text-overflow\"><span>有</span></td>\n",
       "</tr>\n",
       "</tbody>\n",
       "</table>\n",
       "</div>\n",
       "</div>\n",
       "</div>\n",
       "<div class=\"column column-03\">\n",
       "<div class=\"product-list-price\">\n",
       "<div class=\"line line-01 price-range\">\n",
       "<a href=\"product.php?p=507471&amp;tr_so=w&amp;tr_ref=sr_A&amp;tr_op=3150&amp;tr_kw=dyson&amp;tr_srch=rb&amp;tr_pp=1&amp;tr_pn=1&amp;tr_ti=15&amp;tr_ct=3&amp;tr_h=16941338746283639385a7b1_61560623&amp;tr_h3=142112527662836393856063_20568445&amp;tr_vt=1\">\n",
       "<div class=\"listing-price-range\">\n",
       "<span class=\"product-price-text\">\n",
       "<span class=\"text-price-unit\">HK$</span><span class=\"text-price-number\" data-price=\"2980.0\">2,980</span><span class=\"text-price-unit-to\">-</span><span class=\"text-price-number\" data-price=\"3480.0\">3,480</span>\n",
       "</span>\n",
       "<span class=\"product-prop\"><img class=\"hong_20\" src=\"/images/zh_HK/price_label/hong_20.png\" title=\"行貨\"/></span>\n",
       "</div>\n",
       "</a>\n",
       "</div>\n",
       "<div class=\"line line-01 price-range\">\n",
       "<a href=\"product.php?p=507471&amp;tr_so=w&amp;tr_ref=sr_A&amp;tr_op=3150&amp;tr_kw=dyson&amp;tr_srch=rb&amp;tr_pp=1&amp;tr_pn=1&amp;tr_ti=15&amp;tr_ct=4&amp;tr_h=16941338746283639385a7b1_61560623&amp;tr_h3=142112527662836393856063_20568445&amp;tr_vt=1\">\n",
       "<div class=\"listing-price-range\">\n",
       "<span class=\"product-price-text\">\n",
       "<span class=\"text-price-unit\">HK$</span><span class=\"text-price-number\" data-price=\"2850.0\">2,850</span><span class=\"text-price-unit-to\">-</span><span class=\"text-price-number\" data-price=\"3080.0\">3,080</span>\n",
       "</span>\n",
       "<span class=\"product-prop\"><img class=\"water_20\" src=\"/images/zh_HK/price_label/water_20.png\" title=\"水貨\"/></span>\n",
       "</div>\n",
       "</a>\n",
       "</div>\n",
       "</div>\n",
       "<!-- product price -->\n",
       "</div>\n",
       "<div class=\"column column-04 testb-list-btn\">\n",
       "<a class=\"btn\" href=\"product.php?p=507471&amp;tr_so=w&amp;tr_ref=sr_A&amp;tr_op=3150&amp;tr_kw=dyson&amp;tr_srch=rb&amp;tr_pp=1&amp;tr_pn=1&amp;tr_ti=15&amp;tr_ct=9&amp;tr_h=16941338746283639385a7b1_61560623&amp;tr_h3=142112527662836393856063_20568445&amp;tr_vt=1\">\n",
       "        比較報價    </a>\n",
       "</div>\n",
       "</div>\n",
       "</div>"
      ]
     },
     "execution_count": 45,
     "metadata": {},
     "output_type": "execute_result"
    }
   ],
   "source": [
    "soup.find('div',{'class':'item club-list-row'})"
   ]
  },
  {
   "cell_type": "code",
   "execution_count": 25,
   "metadata": {},
   "outputs": [
    {
     "data": {
      "text/plain": [
       "<a href=\"product.php?p=429172&amp;tr_so=w&amp;tr_ref=sr_A&amp;tr_op=499&amp;tr_kw=dyson&amp;tr_srch=rb&amp;tr_pp=1&amp;tr_pn=1&amp;tr_ti=15&amp;tr_ct=2&amp;tr_h=160559192362835712850a58_38477064&amp;tr_h3=10240798046283571284cda4_28994028&amp;tr_vt=1\">Dyson V8 Cyclone Canister for Dyson V8 vacuums                    </a>"
      ]
     },
     "execution_count": 25,
     "metadata": {},
     "output_type": "execute_result"
    }
   ],
   "source": [
    "soup.find('div',{'class':'item club-list-row'}).find('div', {'class':'line line-01'}).find('a')\n",
    "\n",
    "# find one item first then find All\n",
    "# after using find , it is still a soup, so can continue to use 'find'"
   ]
  },
  {
   "cell_type": "code",
   "execution_count": null,
   "metadata": {},
   "outputs": [],
   "source": []
  },
  {
   "cell_type": "code",
   "execution_count": 35,
   "metadata": {},
   "outputs": [],
   "source": [
    "# by Wayne\n",
    "\n",
    "product = soup.find('div',{'class':'item club-list-row'}).find('div', {'class':'line line-01'}) \n",
    "# already include product name, its fine\n"
   ]
  },
  {
   "cell_type": "code",
   "execution_count": 36,
   "metadata": {},
   "outputs": [
    {
     "data": {
      "text/plain": [
       "'\\nDyson V8 Cyclone Canister for Dyson V8 vacuums                    \\n'"
      ]
     },
     "execution_count": 36,
     "metadata": {},
     "output_type": "execute_result"
    }
   ],
   "source": [
    "product_name = product.text\n",
    "product_name"
   ]
  },
  {
   "cell_type": "code",
   "execution_count": 37,
   "metadata": {},
   "outputs": [
    {
     "data": {
      "text/plain": [
       "str"
      ]
     },
     "execution_count": 37,
     "metadata": {},
     "output_type": "execute_result"
    }
   ],
   "source": [
    "type(product_name)"
   ]
  },
  {
   "cell_type": "code",
   "execution_count": 34,
   "metadata": {},
   "outputs": [
    {
     "data": {
      "text/plain": [
       "'Dyson V8 Cyclone Canister for Dyson V8 vacuums'"
      ]
     },
     "execution_count": 34,
     "metadata": {},
     "output_type": "execute_result"
    }
   ],
   "source": [
    "product_name.strip()"
   ]
  },
  {
   "cell_type": "code",
   "execution_count": 74,
   "metadata": {},
   "outputs": [
    {
     "data": {
      "text/plain": [
       "range(0, 3)"
      ]
     },
     "execution_count": 74,
     "metadata": {},
     "output_type": "execute_result"
    }
   ],
   "source": [
    "range(3)"
   ]
  },
  {
   "cell_type": "code",
   "execution_count": 147,
   "metadata": {},
   "outputs": [
    {
     "name": "stdout",
     "output_type": "stream",
     "text": [
      "Break\n"
     ]
    }
   ],
   "source": [
    "r2 = requests.get('https://www.price.com.hk/search.php?g=A&q=dyson&page=50')\n",
    "r2\n",
    "soup = BeautifulSoup(r2.text)\n",
    "if len(soup.findAll('div', {'class': 'item club-list-row'})) ==0:\n",
    "    print('Break')\n",
    "else:\n",
    "    print(soup.find('div', {'class': 'item club-list-row'}).text.strip())\n"
   ]
  },
  {
   "cell_type": "code",
   "execution_count": null,
   "metadata": {},
   "outputs": [],
   "source": []
  },
  {
   "cell_type": "code",
   "execution_count": 138,
   "metadata": {},
   "outputs": [],
   "source": [
    "# Test\n",
    "\n",
    "r2 = requests.get('https://www.price.com.hk/search.php?g=A&q=dyson&page=30')\n",
    "r2\n",
    "soup = BeautifulSoup(r2.text)\n",
    "for product in soup.findAll('div', {'class': 'item club-list-row'}):\n",
    "    # name\n",
    "    product_name = product.find('div', {'class': 'line line-01'}).text.strip()\n",
    "    # price\n",
    "    product_price = product.find('span', {'class': 'product-price-text'}).text.strip()\n",
    "    print(product_name,product_price)\n",
    "    time.sleep(0.2)"
   ]
  },
  {
   "cell_type": "code",
   "execution_count": 130,
   "metadata": {},
   "outputs": [
    {
     "data": {
      "text/plain": [
       "21"
      ]
     },
     "execution_count": 134,
     "metadata": {},
     "output_type": "execute_result"
    }
   ],
   "source": []
  },
  {
   "cell_type": "code",
   "execution_count": 123,
   "metadata": {},
   "outputs": [
    {
     "data": {
      "text/plain": [
       "0"
      ]
     },
     "execution_count": 123,
     "metadata": {},
     "output_type": "execute_result"
    }
   ],
   "source": [
    "s=''\n",
    "len(s)"
   ]
  },
  {
   "cell_type": "code",
   "execution_count": 84,
   "metadata": {},
   "outputs": [],
   "source": [
    "import time"
   ]
  },
  {
   "cell_type": "code",
   "execution_count": null,
   "metadata": {},
   "outputs": [
    {
     "name": "stdout",
     "output_type": "stream",
     "text": [
      "===============Page 1=======================\n",
      "Dyson V8 Cyclone Canister for Dyson V8 vacuums HK$399-499\n",
      "Dyson V8 Clear Bin HK$479-599\n",
      "PureBurg 淨博 後置HEPA 2合1代用濾網濾芯 (適用於Dyson V10 Animal Fluffy Absolute SV12無線吸塵機) HK$179-400\n",
      "河田生活 後置HEPA 2合1代用濾網濾芯 (適用於Dyson V10 Animal Fluffy Absolute SV12無線吸塵機) HK$400-499\n",
      "Dyson Li-Ion Rechargeable 2200mah Battery For Dyson V7 / SV11 HK$580\n",
      "Dyson Extension Hose Mo 延長軟管 967764-01 HK$128-199\n",
      "Dyson Supersonic HD01 HK$2,350-2,999\n",
      "Dyson Supersonic 風筒 HD08 HK$2,980-3,480\n",
      "Dyson Supersonic Platinum Bag HK$268\n",
      "Dyson V11 Absolute 無線吸塵機 HK$4,100-6,288\n",
      "Dyson Lightcycle HK$3,590-3,870\n",
      "Dyson Cyclone 965878-01 HK$470\n",
      "Dyson 二合一組合濾網 (適用TP06) HK$610-4,080\n",
      "Dyson Airwrap Volume + Shape HK$3,100-3,488\n",
      "Dyson Supersonic 梳子套裝 HK$198-350\n",
      "===============Page 2=======================\n",
      "Dyson Tangle-free Turbine Tool 925067-01 HK$499\n",
      "Dyson 風扇暖風機 AM09 HK$2,830-3,890\n",
      "Dyson V11 Fluffy 無線吸塵機 HK$3,698-4,480\n",
      "Dyson HP04 Filiter (活性碳過濾網) HK$270-430\n",
      "Dyson Airwrap Smooth + Control HK$3,100-3,488\n",
      "Dyson Supersonic 風筒 專業版 HD02 HK$2,860\n",
      "Dyson HP04 Filter (玻璃HEPA濾網) HK$398-698\n",
      "Dyson Rechargeable Battery 吸塵機電池 965874-02 HK$368\n",
      "Dyson Omni-glide 多向吸塵機 HK$3,420-3,580\n",
      "Dyson V10吸塵機電池 969352-02 HK$990-1,190\n",
      "Dyson Pure 空氣清新機濾網 (適用於 Dyson Pure Cool Link DP01 / DP03 及 Dyson Pure Hot+Cool Link HP00 / HP02 / HP03) HK$530-570\n",
      "PureBurg 淨博 吸塵機替換電池3000mAh (Dyson適用 V8系列) HK$599-660\n",
      "Dyson Pre Filter 濾芯 HK$170-250\n",
      "Dyson Vacuum Charger 充電器 HK$400\n",
      "Dyson TP04 / DP04 Filter (玻璃HEPA濾網) HK$398-650\n",
      "===============Page 3=======================\n",
      "Dyson Cyclone V10 Motorhead HK$2,650-2,880\n",
      "Dyson 二合一組合濾網 (適用HP06) HK$600-730\n",
      "Dyson BATTERY CHARGER UK 205720-01 HK$168-398\n",
      "Dyson Airwrap Complete 造型器 HK$3,240-4,060\n",
      "Dyson V8 Fluffy Origin 無線吸塵機 HK$2,999-3,080\n",
      "Dyson Docking Station V7 / V8 HK$450\n",
      "Dyson Lightcycle Morph 枱燈 HK$4,990\n",
      "Dyson Battery Charger 917530-01 HK$399\n",
      "Dyson Supersonic 升級版風筒 HD03 HK$2,500-3,180\n",
      "Dyson 升級版 Supersonic HD04 風筒 專業版 HK$2,890-3,030\n",
      "Dyson TP04 / DP04 Filiter (活性碳過濾網) HK$270-430\n",
      "Dyson V11 Battery HK$1,380\n",
      "Dyson Car Tool Kit HK$470\n",
      "Dyson Flexi Crevice Tool HK$250\n",
      "Dyson Airwrap Complete 多功能造型器 HS05 HK$4,380-4,480\n",
      "===============Page 4=======================\n",
      "Dyson 直立無葉扇 AM07 HK$2,150-3,480\n",
      "PureBurg 淨博 吸塵機替換電池3000mAh (Dyson適用 V10系列) HK$880\n",
      "Dyson V8 Fluffy 無線吸塵機 HK$2,650-3,380\n",
      "Dyson V8 Main Body (967812-01) HK$980\n",
      "Dyson 965661-01 前置濾網濾芯 HK$110-199\n",
      "Dyson Purifier Cool Autoreact 二合一空氣清新機 TP7A HK$3,930-4,280\n",
      "Dyson Rigid Crevice Tool HK$160-190\n",
      "Dyson HEPA Filter 969082-01 HK$150-400\n",
      "Dyson Clear Bin 集塵盒 965660-01 HK$409-450\n",
      "Dyson V11 fluffy/RD 升級版 HK$4,120-4,598\n",
      "Dyson V11 Fluffy Extra 無線吸塵機 HK$3,750-4,550\n",
      "Dyson Purifier Hot+Cool 三合一暖風空氣清新機 HP07 HK$5,380\n",
      "BattPro Dyson V8 代用電池 HK$565-590\n",
      "Dyson BATTERY CHARGER EU 205720-03 HK$110-320\n",
      "Dyson V11 Fluffy 升級版 無線吸塵機 HK$3,680-4,688\n",
      "===============Page 5=======================\n",
      "Dyson V11 Fluffy 升級版 無線吸塵機 HK$3,680-4,688\n",
      "Dyson V15 Detect Absolute 無線吸塵機 HK$5,420-6,480\n",
      "Dyson Supersonic 專業版 銀灰色 HK$2,550-2,568\n",
      "河田生活 Dyson Pure Cool Me TP00 TP01 TP02 TP03 BP01 AM11空氣清新機HEPA 代用濾網濾芯 HK$500-550\n",
      "Dyson V11 Absolute 升級版 無線吸塵機 HK$4,100-5,250\n",
      "Dyson 伸縮軟管 HK$160\n",
      "Dyson T2 免鑽牆掛架 HK$399\n",
      "Dyson 二合一組合濾網 (07及09系列) HK$698-750\n",
      "Dyson Stubborn Dirt Brush HK$180-220\n",
      "Dyson Supersonic Storage Case HK$288-299\n",
      "Dyson V8 Absolute 無線吸塵機 HK$3,080-5,459\n",
      "Dyson Home cleaning kit HK$700\n",
      "Dyson Corrale 直髮造型器 HK$2,650-3,500\n",
      "Dyson 除蟎床褥吸頭 HK$260-309\n"
     ]
    }
   ],
   "source": [
    "i=1\n",
    "while True:\n",
    "    r = requests.get(f'https://www.price.com.hk/search.php?g=A&q=dyson&page={i}')\n",
    "    print(f'===============Page {i}=======================')\n",
    "#    if r.status_code==200: # Page 27 also 200\n",
    "    soup = BeautifulSoup(r.text)\n",
    "    i+=1\n",
    "    if len(soup.findAll('div', {'class': 'item club-list-row'})) == 0: # try to assume it is false and then use this as if condition, more easy and simple\n",
    "        break # should put outside the for loop as a major condition\n",
    "    else:\n",
    "        for product in soup.findAll('div', {'class': 'item club-list-row'}):\n",
    "            product_name = product.find('div', {'class': 'line line-01'}).text.strip()\n",
    "            if product.find('span', {'class': 'product-price-text'}) == None:\n",
    "                print(product_name, 'N/A')\n",
    "            else:\n",
    "                product_price = product.find('span', {'class': 'product-price-text'}).text.strip()\n",
    "                print(product_name, product_price)\n",
    "                time.sleep(0.2)"
   ]
  },
  {
   "cell_type": "code",
   "execution_count": 102,
   "metadata": {},
   "outputs": [
    {
     "name": "stdout",
     "output_type": "stream",
     "text": [
      "===============11=======================\n",
      "Dyson Extension hose / 延長軟管 HK$100-150\n",
      "Dyson Supersonic 風筒配專用收納袋 HK$2,980\n",
      "Dyson 360 Heurist 智能吸塵機器人 HK$8,480\n",
      "Dyson Supersonic 風筒 HD08 全桃紅色節日限定版 附專用按摩梳及順髮梳 HK$3,680-3,980\n",
      "PureBurg 淨博 吸塵機替換電池3000mAh (Dyson適用 V6 DC58 DC61 DC62 DC72 SV07 SV08 SV09 HK$588\n",
      "Dyson Supersonic 風筒紅色 配限量版金色禮盒 HK$2,980-3,280\n",
      "Denkian Dyson V6 2500mAh 代用電池 HK$450-500\n",
      "Dyson Cyclone V10 Animal 無線吸塵機 HK$3,680-4,290\n",
      "Dyson Supersonic HD07 風筒 - 普魯士藍禮盒版 HK$3,780-3,880\n",
      "Dyson Digital Slim 無線吸塵機 DC62 HK$3,280\n",
      "Dyson Supersonic 風筒 粉紅禮盒特別版 HK$3,180-3,280\n",
      "Dyson V11 Torque Drive High Torque 吸頭 HK$880\n",
      "Dyson V12 Detect Slim Total Clean 輕量智能無線吸塵機 HK$4,200-5,580\n",
      "Dyson Supersonic HD08 風筒 - 普魯士藍冬日限定版 HK$3,880\n",
      "PureBurg 淨博 空氣清新機替換 HEPA 濾網 (Dyson適用 Pure Cool Me TP00 TP01 TP02 TP03 BP01 AM11) HK$349-550\n",
      "===============12=======================\n",
      "Dyson Supersonic 風筒 粉紅禮盒特別版 HK$3,180-3,280\n",
      "Dyson Pure Hot+Cool 三合一風扇暖風空氣清新機 HP03 HK$4,280-5,180\n",
      "Dyson V11 Torque Drive High Torque 吸頭 HK$880\n",
      "Dyson Airwrap Complete 造型器 限量瑰麗紅 HK$3,780-4,280\n",
      "Dyson DC46 Turbinehead 球型吸塵機 HK$2,850\n",
      "Dyson Post filter V7 V8 967478-01 HK$150-199\n",
      "Dyson Digital Slim Fluffy 專用火牛 HK$460\n",
      "Dyson V8 Fluffy Pro 無線吸塵機 HK$2,980-3,560\n",
      "Dyson Allergy Kit 防過敏套裝 HK$560-640\n",
      "PureBurg 淨博 空氣清新機替換 HEPA 濾網 (Dyson適用 Pure Cool Me TP00 TP01 TP02 TP03 BP01 AM11) HK$349-550\n",
      "Dyson Supersonic HD01 with Platinum Bag HK$2,809-3,188\n",
      "Dyson HEPA Post Filter 966912-03 HK$398\n",
      "Dyson V8 Absolute+ 無線吸塵機 HK$3,080-5,499\n",
      "PureBurg 淨博 吸塵機替換電池2200mAh (Dyson適用 V6 DC58 DC61 DC62 DC72 SV07 SV08 SV09 HK$499\n",
      "Dyson Pre-Filter Assy #DY-923413-01 Filter HK$130-170\n",
      "===============13=======================\n",
      "Dyson Allergy Kit 防過敏套裝 HK$560-640\n",
      "Dyson Pure Cool Me 個人空氣淨化風扇 BP01 HK$2,378-2,890\n",
      "PureBurg 淨博 吸塵機替換後置HEPA 2合1濾網濾芯(Dyson適用 V11 Animal Pro & V11 Absolute Pro & Fluffy & SV14) HK$199\n",
      "Dyson Soft Roller Cleaner Head 966489-01 HK$880-980\n",
      "Dyson Supersonic 風筒專用底座 (銀色) HK$268-318\n",
      "Dyson V11 Floor Dok 收納架 HK$560-880\n",
      "Dyson Supersonic Hair Dryer HD01 Black/Purple with Black Presentation Case HK$2,680\n",
      "Dyson Supersonic 升級版 HD03 紅色特別版 配精美禮盒 HK$2,930-3,180\n",
      "Dyson Groom Kit 寵物清潔工具 HK$350\n",
      "Dyson Airwrap 造型器 -普魯士藍冬日限定版 HK$4,880-5,180\n",
      "Dyson Digital Slim Fluffy Pro 輕量無線吸塵機 HK$3,880-4,080\n",
      "Dyson V8 Fluffy 無線吸塵機 (2019新型號 - 6個配件) HK$2,780-3,150\n",
      "Dyson V7 Car+Boat Cord-Free Handheld 手提吸塵機 HK$1,900\n",
      "Dyson Up-top adaptor / 高處清潔轉接頭 HK$100-150\n",
      "PureBurg 淨博 吸塵機替換前置濾網 Pre-Filter (Dyson適用 V6 V7 V8 SV10 SV11 DC58 DC59 DC61 DC62 系列) HK$80-130\n",
      "===============14=======================\n",
      "PowerSmart Dyson V10 Rechargeable Battery代用鋰電池, 25.2V/3000mAh HK$750-980\n",
      "PowerSmart Dyson V7 Replacement Battery 代用電池, 21.6V 2000mAh/43Wh HK$398\n",
      "Dyson Supersonic 風筒 紅色禮盒 HD01 HK$2,680-2,789\n",
      "Dyson V8 Absolute Pro 無線吸塵機 HK$3,570\n",
      "Dyson Combination Tool 二合一細縫吸頭 967482-01 HK$180-199\n",
      "Dyson V11 軟絨毛滾筒吸頭 HK$850-950\n",
      "Anewpow Dyson 專用 Anewpow UV 紫外線消毒電動濕拖吸頭 (帶LED燈款) AC71 HK$499-798\n",
      "Dyson Cyclone V10 Absolute+ 無線吸塵機 (英國版，6吸頭) HK$4,080\n",
      "Dyson Up-Top Tool U型吸頭 HK$239-258\n",
      "Dyson Soft Dusting Brush 迷你軟毛吸頭 HK$220\n",
      "Dyson Mini Turbine Motorized Motorhead Brush Tool HK$399-499\n",
      "PowerSmart Dyson DC35/DC44 Rechargeable Battery 22.2V/1500mAh HK$295-298\n",
      "Dyson Supersonic 風筒 HD08 全瑰麗紅限定版 配精美禮盒 HK$3,130-3,680\n",
      "BattPro Dyson V6/V7/V8 三腳火牛 HK$180\n",
      "Dyson Cyclone V10 Absolute 無線吸塵機 (英國版，6吸頭) HK$4,080-5,659\n",
      "===============15=======================\n",
      "Dyson DC31 DC34 DC35 DC44 Li-Ion Rechargeable Battery HK$388\n",
      "PureBurg 淨博 空氣清新機完整替換HEPA及活性碳濾網 (Dyson適用 Pure Cool Link TP04 DP04 Hot + Cool Link HP04) HK$340-760\n",
      "河田生活 Dyson V8系列代用鋰電池 4000mAh HK$480\n",
      "Dyson V8 Quick Release Stubborn Dirt Brush HK$180-250\n",
      "Dyson 原廠V8系列通用電池 HK$950-980\n",
      "Dyson Pure Cool 座枱式二合一智能空氣淨化風扇 DP04 HK$3,260-3,919\n",
      "Dyson Cyclone V10 Total Clean 無線吸塵機 HK$5,080\n",
      "Dyson Supersonic HD01 with Platinum Presentation Case HK$2,680\n",
      "Dyson V7/V8 通用掛牆座 HK$299\n",
      "Dyson Mattress tool 床墊吸頭 908940-08 HK$200-240\n",
      "Dyson Combination Tool 二合一細縫吸頭 HK$198\n",
      "TICO 後置HEPA 2合1代用濾網濾芯 (適用於Dyson V10 Animal Fluffy Absolute SV12無線吸塵機) HK$109\n",
      "Dyson Quick-release Extension Hose for V7 V8 V10 V11 伸縮軟管 HK$100-128\n",
      "Dyson Cyclone V10 Dok 收納架 HK$980\n",
      "Dyson V6 handheld tool kit 手持工具配件 HK$560\n",
      "===============16=======================\n",
      "Dyson V10 Vacuum Cleaner Docking tation HK$280\n",
      "Dyson V11 Torque Drive 無線吸塵機 HK$4,200-4,780\n",
      "Dyson Car Cleaning Kit 汽車工具組 HK$500-709\n",
      "Dyson V8 Absolute 無線吸塵機 (英國版，6吸頭) HK$3,180-3,480\n",
      "Dyson Supersonic 風筒 23.75K金限定別注版 HK$2,780-3,080\n",
      "Dyson Supersonic 風筒 桃紅色配專用護髮梳 HK$2,770-3,180\n",
      "Dyson 智能雷射輕量軟絨毛滾筒吸頭 適用於V7 V8 V10 V11 V15 HK$1,110\n",
      "Dyson V8 Handheld Toolkit 抗敏吸塵工具套裝 HK$490-499\n",
      "Dyson 防纏結螺旋吸頭 適用於 V7 V8 V10 V11 V15 HK$810\n",
      "Dyson Supersonic 風筒桃紅色配專用按摩梳及順髮梳 HK$2,900-3,200\n",
      "河田生活 Dyson V6系列代用鋰電池 3000mAh HK$450-580\n",
      "Dyson V8 Quick Release Up Top Adaptor mo 天花吸頭 HK$160-220\n",
      "Dyson Supersonic 升級版風筒桃紅色 節日特別版 配專用底座 HK$2,980-2,988\n",
      "Dyson Mini Motorized Head 迷你電動吸頭 966086-01 HK$385-680\n",
      "Dyson Pure Cool 座枱式二合一智能空氣淨化風扇 DP03 HK$3,559-3,560\n",
      "===============17=======================\n",
      "Dyson Mini Motorized Head V7/V8/V10/V11 迷你電動塵蟎吸頭 HK$299-500\n",
      "Dyson Pure Cool Link Tower Replacement Filter 智能空氣淨化風扇濾心 HK$530-550\n",
      "河田生活 Dyson V7系列代用鋰電池 3000mAh HK$450-580\n",
      "PowerSmart Dyson V8 Replacement Battery 代用電池, 21.6V 5000mAh/108Wh HK$668\n",
      "Dyson Cleaning Tool Kit 吸頭配件三件裝 HK$500-539\n",
      "PureBurg 淨博 空氣清新機替換 HEPA 濾網 (Dyson適用Pure Hot + Cool HP00 HP01 HP02 HP03 Pure Cool Link DP01 DP03) HK$349-570\n",
      "PowerSmart Dyson Rechargeable Battery V6/DC58/DC62/DC74, 21.6V/1500mAh HK$298\n",
      "Case Station Dyson V6 吸塵機電池 3000mAh HK$450-590\n",
      "BattPro Dyson DC31/DC34 代用電池 HK$480-580\n",
      "Dyson Supersonic 風筒 HD03 限量全桃紅色 專用透氣捲髮梳及順髮梳 HK$2,800-3,280\n",
      "Dyson Airwrap Complete 造型器 銀銅色 節日特別版配專用旅行袋 HK$3,880-4,150\n",
      "BattPro Dyson V8 (21.6V 4600mAh) 代用電池 HK$590-680\n",
      "BattPro Dyson V6 (21.6V 2000mAh) 代用電池 HK$260-300\n",
      "Dyson Mattress Tool V7/V8/V10/V11 床褥吸頭 HK$288-500\n",
      "Dyson Light Pipe Crevice Tool LED 隙縫吸頭 970466-01 HK$168-178\n",
      "===============18=======================\n",
      "Dyson Cyclone V10 Total Clean 無線吸塵機 HK$5,080\n",
      "Dyson Mattress Tool V7/V8/V10/V11 床褥吸頭 HK$288-500\n",
      "Dyson Pre-Filter Assy #DY-923413-01 Filter HK$130-170\n",
      "Dyson V6 Top Dog HEPA 手提吸塵機 (美版) N/A\n",
      "Dyson Quick-release Extension Hose for V7 V8 V10 V11 伸縮軟管 HK$100-128\n",
      "河田生活 Dyson 副廠轉動刷頭 Roller Brush 適合 Dyson V7 V8 V10 V11 Vacuum Cleaner HK$368\n",
      "Case Station Dyson V10 吸塵機電池 HK$998\n",
      "HT 風筒收納架 合適Dyson 風筒 HK$47\n",
      "PureBurg 淨博 吸塵機替換電池3000mAh (Dyson適用 V10系列) HK$880\n",
      "河田生活 Dyson V6系列代用鋰電池 3000mAh HK$450-580\n",
      "Anewpow Dyson 專用 Anewpow UV 紫外線消毒電動濕拖吸頭 (帶LED燈款) AC71 HK$499-798\n",
      "PowerSmart Dyson V8 Replacement Battery 代用電池, 21.6V 5000mAh/108Wh HK$668\n",
      "PureBurg 淨博 吸塵機替換電池3000mAh (Dyson適用 V8系列) HK$599-660\n",
      "河田生活 後置HEPA 2合1代用濾網濾芯 (適用於Dyson V10 Animal Fluffy Absolute SV12無線吸塵機) HK$400-499\n",
      "PureBurg 淨博 後置HEPA 2合1代用濾網濾芯 (適用於Dyson V10 Animal Fluffy Absolute SV12無線吸塵機) HK$179-400\n",
      "===============19=======================\n",
      "Dyson 深層清潔套裝 (LED 隙縫吸頭、U型毛刷吸頭及延長軟管) HK$350-450\n",
      "ASK Lifestyle Dyson 吸塵機及配件掛架 - A073005 HK$258\n",
      "BattPro Dyson V6 代用電池 (21.6V 1500mAh) HK$270\n",
      "PowerSmart Dyson V6 Replacement Battery 代用電池, 21.6V 2000mAh/43Wh HK$388\n",
      "HT 風筒收納架 合適Dyson 風筒 HK$47\n",
      "PowerSmart Dyson V6 Replacement Battery 代用電池, 21.6V 2500mAh/54Wh HK$498\n",
      "河田生活 Dyson Pure Hot + Cool HP00 HP01 HP02 HP03 Pure Cool Link DP01 DP03 空氣清新機HEPA 代用濾網濾芯 HK$530-580\n",
      "河田生活 Dyson V8系列代用鋰電池 3500mAh HK$550-680\n",
      "河田生活 Dyson V8系列代用鋰電池 3000mAh HK$550-580\n",
      "河田生活 Dyson V6系列代用鋰電池 2200mAh HK$450-480\n",
      "PowerSmart Dyson DC35/DC44/DC57(Type-B) Replacement Battery 代用電池 22.2V 2000mAh/44Wh HK$438\n",
      "PowerSmart Dyson DC35/DC44/DC57(Type-A) Replacement Battery 代用電池 22.2V 2000mAh/44Wh HK$438\n",
      "TP Dyson Pure Cool Link Models TP01,TP02,TP03, BP01 空氣清新機HEPA 代用濾網濾芯 HK$160\n",
      "河田生活 Dyson V6 V7 V8 通用替換代用HEPA 過濾網濾芯 (2支裝) HK$130-300\n",
      "河田生活 Dyson DC31 DC34 DC35 DC44 系列 電池充電器 HK$280\n",
      "===============20=======================\n",
      "IB Dyson 風筒專用閃石保護貼膜 (粉紅閃石) HK$180\n",
      "BattPro Dyson DC31/DC34 代用電池 HK$480-580\n",
      "Anewpow Dyson 專用 UV 紫外線消毒電動濕拖吸頭 (帶LED燈款) AC66 HK$699-798\n",
      "ALOK Dyson風筒吹風機專用放置收納架金屬支架 (非原廠) DYA-004 HK$299\n",
      "Dyson Cinetic Big Ball 球型吸塵器 N/A\n",
      "Dyson Airblade V型乾手機 AB12 N/A\n",
      "河田生活 Dyson V8系列代用鋰電池 4000mAh HK$480\n",
      "BattPro Dyson V6 (21.6V 2000mAh) 代用電池 HK$260-300\n",
      "Dyson Airblade Tap Long 長管型水龍頭加乾手機 AB10 N/A\n",
      "BattPro Dyson V6 代用電池 (21.6V 3000mAh) HK$410-450\n",
      "Dyson Airblade dB 全自動非接觸式乾手機 AB14 N/A\n",
      "Denkian Dyson V6 2500mAh 代用電池 HK$450-500\n",
      "Dyson V8 Total Clean 無線吸塵機 N/A\n",
      "河田生活 Dyson V10 CYCLONE系列 電池充電器 (取代217160-02 969350) HK$390\n",
      "PureBurg 淨博 吸塵機替換電池3000mAh + 後置HEPA濾網組合 (Dyson適用 V10系列) HK$999\n",
      "===============21=======================\n",
      "ALOK Dyson風筒吹風機專用放置收納架金屬支架 (非原廠) DYA-004 HK$299\n",
      "河田生活 Dyson V10系列 Fluffy Absolute Animal Motorhead 無線吸塵機代用鋰電池 3000mAh HK$980\n",
      "Nissyo 日章工業 2000W 變壓器 變壓火牛 DE-200 HK$399\n",
      "IB Dyson Hair Dryer 風筒專用不鏽鋼收納整理掛牆支架 (金色版) HK$390\n",
      "IB Dyson Hair Dryer 風筒專用不鏽鋼收納整理掛牆支架 (金色豪華版) HK$590\n",
      "河田生活 後置HEPA濾網濾芯 Filter HK$150-199\n",
      "IB  Wall Mount for Dyson Airwrap Complete & Hair Dryer 造型器和風筒專用收納整理掛牆支架 HK$690\n",
      "Lunon 摺疊式吸塵機底座 LUN10 HK$138\n",
      "PureBurg 淨博 Dyson 吸塵機替換後置HEPA 2合1濾網濾芯(適用 V12 Digital Detect Slim / Fluffy / Total Clean / SV20) HK$199\n",
      "PureBurg 淨博 空氣清新機替換HEPA活性碳濾網 (Dyson適用 Pure Cool Link TP06 TP07 TP09 Hot + Cool Link HP06 HP07 HP09空氣清新機) HK$402-650\n",
      "河田生活 4入完整替換空氣過濾網組HEPA含活性碳濾芯 (適用於Dyson Pure Cool Link TP04 DP04 Hot + Cool Link HP04空氣清新機) HK$650-760\n",
      "IB Stainless Steel Wall Mount for Dyson Airwrap Complete & Hair Dryer 造型器和風筒專用不銹鋼收納整理掛牆支架 HK$990\n",
      "NINGLE 線吸塵機配件座地收納固定架 NL-139 HK$128\n",
      "NINGLE 無線吸塵機配件座地收納固定架 NL-138 HK$128\n",
      "Dyson V6 無線吸塵機 N/A\n",
      "===============22=======================\n",
      "Dyson V6 Animal 無線吸塵機 (英國版，5吸頭) N/A\n",
      "Dyson Airblade Tap Short 短管型乾手機 AB09 N/A\n",
      "BattPro Dyson DC35/DC44(TypeB) HK$580\n",
      "Dyson DC40 Multi Floor 無線吸塵機 N/A\n",
      "PowerSmart Dyson V10 Rechargeable Battery代用鋰電池, 25.2V/3000mAh HK$750-980\n",
      "Dyson V7 Trigger Pro 手提吸塵機 N/A\n",
      "Dyson V8 Carbon Fibre 無線吸塵機 N/A\n",
      "PowerSmart Dyson V8 Rechargeable Battery代用鋰電池, 21.6V/3000mAh HK$530-538\n",
      "IB Dyson Hair Dryer 專用不鏽鋼收納整理掛牆支架 HK$290\n",
      "ASK Lifestyle Dyson 吸塵機及配件掛架 - A073005 HK$258\n",
      "Casdon Dyson Cord-Free Vacuum 兒童玩具吸塵機 HK$349\n",
      "Dyson V6 Absolute 無線吸塵機 (英國版，5吸頭) N/A\n",
      "Dyson V6 Up Top 無線吸塵機 N/A\n",
      "IB Dyson Hair Dryer 風筒專用不鏽鋼收納整理掛牆支架 (金色版) HK$390\n",
      "Dyson Airblade Wash+Dry Tall 非接觸式水龍頭加乾手機 WD05 N/A\n",
      "===============23=======================\n",
      "IB Dyson Hair Dryer 風筒專用不鏽鋼收納整理掛牆支架 (金色版) HK$390\n",
      "Dyson V6 Trigger 無線吸塵機 (美版，2吸頭) N/A\n",
      "ASK Lifestyle 太空鋁加長風筒架 (只適用 Dyson 風筒) A041523 HK$140-150\n",
      "BattPro Dyson V6 代用電池 (21.6V 1500mAh) HK$270\n",
      "PureBurg 淨博 輕量無線吸塵機後置HEPA 2合1代用濾網濾芯 (適用於Dyson Digital Slim / Fluffy Extra / SV18) HK$169\n",
      "Dyson V6 Trigger HH08 (三吸頭組) 無線吸塵機 N/A\n",
      "IB Dyson Hair Dryer 專用不鏽鋼收納整理掛牆支架 (豪華版) HK$490\n",
      "PowerSmart Dyson V8 Rechargeable Battery, 21.6V/4000mAh HK$550-660\n",
      "PowerSmart Dyson V7 Replacement Battery 代用電池, 21.6V 2000mAh/43Wh HK$398\n",
      "河田生活 Dyson V10系列 Fluffy Absolute Animal Motorhead 無線吸塵機代用鋰電池 3000mAh HK$980\n",
      "IB Dyson Hair Dryer 風筒專用不鏽鋼收納整理掛牆支架 (金色豪華版) HK$590\n",
      "PowerSmart Dyson V6 Replacement Battery 代用電池, 21.6V 2000mAh/43Wh HK$388\n",
      "PowerSmart Dyson V6 Replacement Battery 代用電池, 21.6V 2500mAh/54Wh HK$498\n",
      "河田生活 Dyson V6 V7 V8 通用替換代用HEPA 過濾網濾芯 (2支裝) HK$130-300\n",
      "HP Dyson HP01, HP02, DP01 空氣清新機HEPA 代用濾網濾芯 HK$160\n",
      "===============24=======================\n",
      "Dyson 10吋座檯無葉扇 AM01 N/A\n",
      "Dyson V6 Flexi 無線吸塵機 N/A\n",
      "Dyson V6 Absolute 無線吸塵機 N/A\n",
      "Dyson DC61 Motorhead 無線吸塵機 N/A\n",
      "Dyson V6 Absolute+ 無線吸塵機 N/A\n",
      "Dyson V6 Top Dog HEPA 手提吸塵機 (美版) N/A\n",
      "Dyson V6 Trigger+ 無線吸塵機 N/A\n",
      "Dyson Supersonic HD01 風筒 [紅色] (限量金盒版) N/A\n",
      "Dyson Hard 雙效地板無線吸塵機 DC57 N/A\n",
      "Dyson V7 Trigger Pro 手提吸塵機 N/A\n",
      "Dyson V6 Top Dog 無線吸塵機 N/A\n",
      "Dyson 免塵袋式吸塵機 DC22 N/A\n",
      "Dyson DC40 Multi Floor 無線吸塵機 N/A\n",
      "Dyson Airblade V型乾手機 AB12 N/A\n",
      "Dyson V6 Total Clean 無線吸塵機 N/A\n",
      "===============25=======================\n",
      "Dyson V6 Up Top 無線吸塵機 N/A\n",
      "Dyson V8 Carbon Fibre 無線吸塵機 N/A\n",
      "Dyson V8 Total Clean 無線吸塵機 N/A\n",
      "Dyson Airblade V型乾手機 HU02 N/A\n",
      "Dyson DC46 Carbon Fibre 球型吸塵機 N/A\n",
      "Dyson DC48 Turbinehead Complete 球型吸塵器 N/A\n",
      "Dyson Airblade dB 全自動非接觸式乾手機 AB14 N/A\n",
      "Dyson V6 Animal 無線吸塵機 (美版，9吸頭) N/A\n",
      "Dyson V6 Animal 無線吸塵機 (英國版，5吸頭) N/A\n",
      "Dyson V6 Trigger HH08 (三吸頭組) 無線吸塵機 N/A\n",
      "Dyson V6 Absolute 無線吸塵機 (英國版，5吸頭) N/A\n",
      "Dyson Airblade Tap Short 短管型乾手機 AB09 N/A\n",
      "Dyson V6 Animal 無線吸塵機 (美版，5吸頭) N/A\n",
      "Dyson V6 Total Clean 無線吸塵機 (英國版) N/A\n",
      "Dyson V6 Trigger 手提吸塵機 (英國版，2吸頭) N/A\n",
      "===============26=======================\n",
      "Dyson V6 Trigger 無線吸塵機 (美版，2吸頭) N/A\n",
      "Dyson Airblade Wash+Dry Tall 非接觸式水龍頭加乾手機 WD05 N/A\n",
      "Dyson Airblade Tap Long 長管型水龍頭加乾手機 AB10 N/A\n",
      "NINGLE 無線吸塵機配件座地收納固定架 NL-088 N/A\n"
     ]
    }
   ],
   "source": [
    "for i in range(11,27):\n",
    "    r = requests.get(f'https://www.price.com.hk/search.php?g=A&q=dyson&page={i}')\n",
    "    print(f'==============={i}=======================')\n",
    "    if r.status_code==200:\n",
    "        soup = BeautifulSoup(r.text)\n",
    "        i+=1\n",
    "        for product in soup.findAll('div', {'class': 'item club-list-row'}):\n",
    "            product_name = product.find('div', {'class': 'line line-01'}).text.strip()\n",
    "            if product.find('span', {'class': 'product-price-text'}) == None:\n",
    "                print(product_name, 'N/A')\n",
    "            else:\n",
    "                product_price = product.find('span', {'class': 'product-price-text'}).text.strip()\n",
    "                print(product_name, product_price)\n",
    "        time.sleep(0.2)\n",
    "    else:\n",
    "        break"
   ]
  },
  {
   "cell_type": "code",
   "execution_count": 72,
   "metadata": {},
   "outputs": [
    {
     "name": "stdout",
     "output_type": "stream",
     "text": [
      "Dyson V8 Cyclone Canister for Dyson V8 vacuums HK$399-499\n",
      "Dyson V8 Clear Bin HK$479-599\n",
      "PureBurg 淨博 後置HEPA 2合1代用濾網濾芯 (適用於Dyson V10 Animal Fluffy Absolute SV12無線吸塵機) HK$179-400\n",
      "河田生活 後置HEPA 2合1代用濾網濾芯 (適用於Dyson V10 Animal Fluffy Absolute SV12無線吸塵機) HK$400-499\n",
      "Dyson Extension Hose Mo 延長軟管 967764-01 HK$128-199\n",
      "Dyson Li-Ion Rechargeable 2200mah Battery For Dyson V7 / SV11 HK$580\n",
      "Dyson Supersonic HD01 HK$2,350-2,999\n",
      "Dyson Supersonic 風筒 HD08 HK$2,980-3,480\n",
      "Dyson Supersonic Platinum Bag HK$268\n",
      "Dyson Lightcycle HK$3,590-3,870\n",
      "Dyson V11 Absolute 無線吸塵機 HK$4,100-6,288\n",
      "Dyson Cyclone 965878-01 HK$470\n",
      "Dyson 二合一組合濾網 (適用TP06) HK$610-4,080\n",
      "Dyson Airwrap Volume + Shape HK$3,100-3,488\n",
      "Dyson Supersonic 梳子套裝 HK$198-350\n"
     ]
    }
   ],
   "source": [
    "# By wayne\n",
    "\n",
    "\n",
    "\n",
    "    \n",
    "#r = requests.get(\"https://www.price.com.hk/search.php?g=A&q=dyson\")\n",
    "#soup = BeautifulSoup(r.text)\n",
    "\n",
    "\n",
    "for product in soup.findAll('div', {'class': 'item club-list-row'}):\n",
    "    # name\n",
    "    product_name = product.find('div', {'class': 'line line-01'}).text.strip()\n",
    "\n",
    "    # price\n",
    "    product_price = product.find('span', {'class': 'product-price-text'}).text.strip()\n",
    "\n",
    "    print(product_name, product_price)"
   ]
  },
  {
   "cell_type": "code",
   "execution_count": null,
   "metadata": {},
   "outputs": [],
   "source": []
  }
 ],
 "metadata": {
  "colab": {
   "collapsed_sections": [],
   "name": "L05 - Web Scraping_Class.ipynb",
   "provenance": [],
   "toc_visible": true
  },
  "kernelspec": {
   "display_name": "Python 3 (ipykernel)",
   "language": "python",
   "name": "python3"
  },
  "language_info": {
   "codemirror_mode": {
    "name": "ipython",
    "version": 3
   },
   "file_extension": ".py",
   "mimetype": "text/x-python",
   "name": "python",
   "nbconvert_exporter": "python",
   "pygments_lexer": "ipython3",
   "version": "3.9.7"
  }
 },
 "nbformat": 4,
 "nbformat_minor": 4
}
