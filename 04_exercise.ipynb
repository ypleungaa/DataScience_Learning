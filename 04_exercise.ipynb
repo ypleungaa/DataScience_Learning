{
 "cells": [
  {
   "cell_type": "markdown",
   "id": "692184b7",
   "metadata": {
    "tags": []
   },
   "source": [
    "### Exercise 1\n",
    "Write a Python program to get the Fibonacci series between 0 to i. i has to be >= 1 and is input by user. The Fibonnaci seqence is a sequence of numbers where the next number in the sequence is the sum of the previous two numbers in the sequence. The sequence looks like this: 1, 1, 2, 3, 5, 8, 13, …\n",
    "\n",
    "Example:\n",
    "* Input: 10\n",
    "* Output: [1, 1, 2, 3, 5, 8, 13, 21, 34, 55]"
   ]
  },
  {
   "cell_type": "code",
   "execution_count": 118,
   "id": "6575b79f",
   "metadata": {},
   "outputs": [],
   "source": [
    "def fibon(n):\n",
    "    a = 0\n",
    "    b = 1\n",
    "    l = [b]\n",
    "    if n <1:\n",
    "        print('Please input positive number')\n",
    "    elif n ==1:\n",
    "        return l\n",
    "    else:\n",
    "        for i in range(1,n): #counter i not a must include in the loop\n",
    "            c = a+b\n",
    "            a = b\n",
    "            b = c # c should be defined before b reference to it\n",
    "            l.append(c)\n",
    "    return l\n"
   ]
  },
  {
   "cell_type": "code",
   "execution_count": 119,
   "id": "abaf1b8f",
   "metadata": {},
   "outputs": [
    {
     "data": {
      "text/plain": [
       "[1, 1, 2, 3, 5, 8, 13, 21, 34, 55]"
      ]
     },
     "execution_count": 119,
     "metadata": {},
     "output_type": "execute_result"
    }
   ],
   "source": [
    "fibon(10)"
   ]
  },
  {
   "cell_type": "markdown",
   "id": "1667aee3",
   "metadata": {},
   "source": [
    "### Exercise 2\n",
    "Write a program which can compute the factorial of a given number. \n",
    "And then write a program to return the series of factorials from 1 to n, given an input of integer n. The results should be printed in a comma-separated sequence on a single line. \n",
    "\n",
    "Example:\n",
    "* Input: 8\n",
    "* Output: [1, 1, 2, 6, 24, 120, 720, 5040, 40320]"
   ]
  },
  {
   "cell_type": "code",
   "execution_count": 121,
   "id": "52a2faba",
   "metadata": {},
   "outputs": [],
   "source": [
    "def factorial(n):\n",
    "    l = [1]\n",
    "    r=1\n",
    "    for i in range(1,n+1):\n",
    "        r *= i\n",
    "        l.append(r)\n",
    "    return l"
   ]
  },
  {
   "cell_type": "code",
   "execution_count": 123,
   "id": "27976480",
   "metadata": {},
   "outputs": [
    {
     "data": {
      "text/plain": [
       "[1,\n",
       " 1,\n",
       " 2,\n",
       " 6,\n",
       " 24,\n",
       " 120,\n",
       " 720,\n",
       " 5040,\n",
       " 40320,\n",
       " 362880,\n",
       " 3628800,\n",
       " 39916800,\n",
       " 479001600,\n",
       " 6227020800,\n",
       " 87178291200,\n",
       " 1307674368000]"
      ]
     },
     "execution_count": 123,
     "metadata": {},
     "output_type": "execute_result"
    }
   ],
   "source": [
    "factorial(15)"
   ]
  },
  {
   "cell_type": "markdown",
   "id": "274b066c",
   "metadata": {},
   "source": [
    "### Exercise 3\n",
    "Write a function to find the longest common prefix string amongst an array of strings.\n",
    "\n",
    "If there is no common prefix, return an empty string \"\".\n",
    "\n",
    "Example 1:\n",
    "\n",
    "* Input: [\"flower\",\"flow\",\"flight\"]\n",
    "* Output: \"fl\"\n",
    "\n",
    "Example 2:\n",
    "\n",
    "* Input: [\"dog\",\"racecar\",\"car\"]\n",
    "* Output: \"\""
   ]
  },
  {
   "cell_type": "code",
   "execution_count": 112,
   "id": "7d4edd46",
   "metadata": {},
   "outputs": [],
   "source": [
    "# loop for checking each item in list\n",
    "# use [dog dog dog] as thinking start point ..........\n",
    "# start with 1 charater ----> add more OR start with a word and then minus the character if we find mismatch\n",
    "\n",
    "# while loop until prefix not equal, a[i] == b[i]\n",
    "# output the stored prefix\n",
    "\n",
    "def common_prefix(l):\n",
    "    i = 0    \n",
    "    while len(set([item[:i] for item in l])) == 1: #if no duplicate items, len(set()) = 1\n",
    "        i += 1\n",
    "    return l[0][:i-1] # i-1 if 1 of the item with another words in the prefix"
   ]
  },
  {
   "cell_type": "code",
   "execution_count": null,
   "id": "245def85-b5e7-499d-9663-34f77c949f2f",
   "metadata": {},
   "outputs": [],
   "source": [
    "def common_prefix(l):\n",
    "    i = 0    \n",
    "    while len(set([item[:i] for item in l])) == 1: \n",
    "        i += 1\n",
    "    return l[0][:i-1] "
   ]
  },
  {
   "cell_type": "code",
   "execution_count": 113,
   "id": "157b786e",
   "metadata": {},
   "outputs": [
    {
     "data": {
      "text/plain": [
       "1"
      ]
     },
     "execution_count": 113,
     "metadata": {},
     "output_type": "execute_result"
    }
   ],
   "source": [
    "l = ['dog','dog','dog']\n",
    "l2 = [word[0:2] for word in l]\n",
    "set2 = set(word[0:2] for word in l)\n",
    "\n",
    "l2\n",
    "set2\n",
    "len(set2)"
   ]
  },
  {
   "cell_type": "code",
   "execution_count": 115,
   "id": "0e8a4977",
   "metadata": {},
   "outputs": [
    {
     "data": {
      "text/plain": [
       "'fl'"
      ]
     },
     "execution_count": 115,
     "metadata": {},
     "output_type": "execute_result"
    }
   ],
   "source": [
    "l = ['flower','flight']\n",
    "common_prefix(l)"
   ]
  },
  {
   "cell_type": "code",
   "execution_count": 63,
   "id": "a05413d7",
   "metadata": {},
   "outputs": [
    {
     "data": {
      "text/plain": [
       "False"
      ]
     },
     "execution_count": 63,
     "metadata": {},
     "output_type": "execute_result"
    }
   ],
   "source": [
    "a='dog'\n",
    "c='dog'\n",
    "b='dog'\n",
    "a[2]==c[2]==b[2]"
   ]
  },
  {
   "cell_type": "markdown",
   "id": "53045dd2",
   "metadata": {
    "tags": []
   },
   "source": [
    "### Exercise 4\n",
    "Given a list of numbers, return whether any two sums to k. For example, given [10, 15, 3, 7] and k of 17, return true since 10 + 7 is 17.\n",
    "\n",
    "Bonus: Can you do this in one pass?"
   ]
  },
  {
   "cell_type": "code",
   "execution_count": null,
   "id": "0e98b865",
   "metadata": {},
   "outputs": [],
   "source": []
  }
 ],
 "metadata": {
  "kernelspec": {
   "display_name": "Python 3 (ipykernel)",
   "language": "python",
   "name": "python3"
  },
  "language_info": {
   "codemirror_mode": {
    "name": "ipython",
    "version": 3
   },
   "file_extension": ".py",
   "mimetype": "text/x-python",
   "name": "python",
   "nbconvert_exporter": "python",
   "pygments_lexer": "ipython3",
   "version": "3.9.7"
  }
 },
 "nbformat": 4,
 "nbformat_minor": 5
}
